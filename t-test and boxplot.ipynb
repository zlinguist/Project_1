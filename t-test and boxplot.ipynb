{
 "cells": [
  {
   "cell_type": "code",
   "execution_count": 19,
   "metadata": {},
   "outputs": [
    {
     "data": {
      "text/html": [
       "<div>\n",
       "<style scoped>\n",
       "    .dataframe tbody tr th:only-of-type {\n",
       "        vertical-align: middle;\n",
       "    }\n",
       "\n",
       "    .dataframe tbody tr th {\n",
       "        vertical-align: top;\n",
       "    }\n",
       "\n",
       "    .dataframe thead th {\n",
       "        text-align: right;\n",
       "    }\n",
       "</style>\n",
       "<table border=\"1\" class=\"dataframe\">\n",
       "  <thead>\n",
       "    <tr style=\"text-align: right;\">\n",
       "      <th></th>\n",
       "      <th>University</th>\n",
       "      <th>CITY</th>\n",
       "      <th>State</th>\n",
       "      <th>ZIP</th>\n",
       "      <th>LATITUDE</th>\n",
       "      <th>LONGITUDE</th>\n",
       "      <th>SAT_AVG_ALL</th>\n",
       "      <th>Total_EMP</th>\n",
       "      <th>Median_income</th>\n",
       "      <th>AVG_income</th>\n",
       "    </tr>\n",
       "  </thead>\n",
       "  <tbody>\n",
       "    <tr>\n",
       "      <td>0</td>\n",
       "      <td>University of Alabama at Birmingham</td>\n",
       "      <td>Birmingham</td>\n",
       "      <td>AL</td>\n",
       "      <td>35294-0110</td>\n",
       "      <td>33.505697</td>\n",
       "      <td>-86.799345</td>\n",
       "      <td>1195</td>\n",
       "      <td>510560</td>\n",
       "      <td>37050</td>\n",
       "      <td>47480</td>\n",
       "    </tr>\n",
       "    <tr>\n",
       "      <td>1</td>\n",
       "      <td>University of Alabama in Huntsville</td>\n",
       "      <td>Huntsville</td>\n",
       "      <td>AL</td>\n",
       "      <td>35899</td>\n",
       "      <td>34.724557</td>\n",
       "      <td>-86.640449</td>\n",
       "      <td>1322</td>\n",
       "      <td>226330</td>\n",
       "      <td>39820</td>\n",
       "      <td>54630</td>\n",
       "    </tr>\n",
       "    <tr>\n",
       "      <td>2</td>\n",
       "      <td>Alabama State University</td>\n",
       "      <td>Montgomery</td>\n",
       "      <td>AL</td>\n",
       "      <td>36104-0271</td>\n",
       "      <td>32.364317</td>\n",
       "      <td>-86.295677</td>\n",
       "      <td>935</td>\n",
       "      <td>164030</td>\n",
       "      <td>33670</td>\n",
       "      <td>42510</td>\n",
       "    </tr>\n",
       "    <tr>\n",
       "      <td>3</td>\n",
       "      <td>The University of Alabama</td>\n",
       "      <td>Tuscaloosa</td>\n",
       "      <td>AL</td>\n",
       "      <td>35487-0166</td>\n",
       "      <td>33.211875</td>\n",
       "      <td>-87.545978</td>\n",
       "      <td>1278</td>\n",
       "      <td>102020</td>\n",
       "      <td>33740</td>\n",
       "      <td>41800</td>\n",
       "    </tr>\n",
       "    <tr>\n",
       "      <td>4</td>\n",
       "      <td>Auburn University at Montgomery</td>\n",
       "      <td>Montgomery</td>\n",
       "      <td>AL</td>\n",
       "      <td>36117-3596</td>\n",
       "      <td>32.367360</td>\n",
       "      <td>-86.177544</td>\n",
       "      <td>1083</td>\n",
       "      <td>164030</td>\n",
       "      <td>33670</td>\n",
       "      <td>42510</td>\n",
       "    </tr>\n",
       "  </tbody>\n",
       "</table>\n",
       "</div>"
      ],
      "text/plain": [
       "                            University        CITY State         ZIP  \\\n",
       "0  University of Alabama at Birmingham  Birmingham    AL  35294-0110   \n",
       "1  University of Alabama in Huntsville  Huntsville    AL       35899   \n",
       "2             Alabama State University  Montgomery    AL  36104-0271   \n",
       "3            The University of Alabama  Tuscaloosa    AL  35487-0166   \n",
       "4      Auburn University at Montgomery  Montgomery    AL  36117-3596   \n",
       "\n",
       "    LATITUDE  LONGITUDE  SAT_AVG_ALL  Total_EMP  Median_income  AVG_income  \n",
       "0  33.505697 -86.799345         1195     510560          37050       47480  \n",
       "1  34.724557 -86.640449         1322     226330          39820       54630  \n",
       "2  32.364317 -86.295677          935     164030          33670       42510  \n",
       "3  33.211875 -87.545978         1278     102020          33740       41800  \n",
       "4  32.367360 -86.177544         1083     164030          33670       42510  "
      ]
     },
     "execution_count": 19,
     "metadata": {},
     "output_type": "execute_result"
    }
   ],
   "source": [
    "import matplotlib.pyplot as plt\n",
    "import pandas as pd\n",
    "import numpy as np\n",
    "import requests\n",
    "import gmaps\n",
    "import os\n",
    "import json\n",
    "\n",
    "# Import API key\n",
    "from api_keys import g_key\n",
    "%matplotlib inline\n",
    "import pandas as pd\n",
    "import matplotlib.pyplot as plt\n",
    "import numpy as np\n",
    "import scipy.stats as sts\n",
    "from scipy.stats import linregress\n",
    "\n",
    "satdata = \"clean_data.csv\"\n",
    "\n",
    "satdata = pd.read_csv(satdata)\n",
    "satdata.head()"
   ]
  },
  {
   "cell_type": "code",
   "execution_count": 3,
   "metadata": {},
   "outputs": [
    {
     "data": {
      "text/html": [
       "<div>\n",
       "<style scoped>\n",
       "    .dataframe tbody tr th:only-of-type {\n",
       "        vertical-align: middle;\n",
       "    }\n",
       "\n",
       "    .dataframe tbody tr th {\n",
       "        vertical-align: top;\n",
       "    }\n",
       "\n",
       "    .dataframe thead th {\n",
       "        text-align: right;\n",
       "    }\n",
       "</style>\n",
       "<table border=\"1\" class=\"dataframe\">\n",
       "  <thead>\n",
       "    <tr style=\"text-align: right;\">\n",
       "      <th></th>\n",
       "      <th>State</th>\n",
       "      <th>ZIP</th>\n",
       "      <th>SAT_AVG_ALL</th>\n",
       "      <th>AVG_income</th>\n",
       "    </tr>\n",
       "  </thead>\n",
       "  <tbody>\n",
       "    <tr>\n",
       "      <td>0</td>\n",
       "      <td>AL</td>\n",
       "      <td>35294-0110</td>\n",
       "      <td>1195</td>\n",
       "      <td>47480</td>\n",
       "    </tr>\n",
       "    <tr>\n",
       "      <td>1</td>\n",
       "      <td>AL</td>\n",
       "      <td>35899</td>\n",
       "      <td>1322</td>\n",
       "      <td>54630</td>\n",
       "    </tr>\n",
       "    <tr>\n",
       "      <td>2</td>\n",
       "      <td>AL</td>\n",
       "      <td>36104-0271</td>\n",
       "      <td>935</td>\n",
       "      <td>42510</td>\n",
       "    </tr>\n",
       "    <tr>\n",
       "      <td>3</td>\n",
       "      <td>AL</td>\n",
       "      <td>35487-0166</td>\n",
       "      <td>1278</td>\n",
       "      <td>41800</td>\n",
       "    </tr>\n",
       "    <tr>\n",
       "      <td>4</td>\n",
       "      <td>AL</td>\n",
       "      <td>36117-3596</td>\n",
       "      <td>1083</td>\n",
       "      <td>42510</td>\n",
       "    </tr>\n",
       "  </tbody>\n",
       "</table>\n",
       "</div>"
      ],
      "text/plain": [
       "  State         ZIP  SAT_AVG_ALL  AVG_income\n",
       "0    AL  35294-0110         1195       47480\n",
       "1    AL       35899         1322       54630\n",
       "2    AL  36104-0271          935       42510\n",
       "3    AL  35487-0166         1278       41800\n",
       "4    AL  36117-3596         1083       42510"
      ]
     },
     "execution_count": 3,
     "metadata": {},
     "output_type": "execute_result"
    }
   ],
   "source": [
    "income_table = satdata[[\"State\",\"ZIP\", \"SAT_AVG_ALL\", \"AVG_income\"]]\n",
    "income_table.head()\n",
    "\n",
    "income_table = income_table.dropna(how='any')\n",
    "income_table.head()\n",
    "\n"
   ]
  },
  {
   "cell_type": "code",
   "execution_count": 5,
   "metadata": {},
   "outputs": [
    {
     "data": {
      "image/png": "[encoded data removed]",
      "text/plain": [
       "<Figure size 432x288 with 1 Axes>"
      ]
     },
     "metadata": {
      "needs_background": "light"
     },
     "output_type": "display_data"
    }
   ],
   "source": [
    "income_distribution = satdata['AVG_income']\n",
    "plt.hist(income_distribution)\n",
    "plt.xlabel('Income')\n",
    "plt.ylabel('Counts')\n",
    "plt.show()"
   ]
  },
  {
   "cell_type": "code",
   "execution_count": 7,
   "metadata": {},
   "outputs": [
    {
     "data": {
      "image/png": "[encoded data removed]",
      "text/plain": [
       "<Figure size 432x288 with 1 Axes>"
      ]
     },
     "metadata": {
      "needs_background": "light"
     },
     "output_type": "display_data"
    }
   ],
   "source": [
    "SAT_distribution = satdata['SAT_AVG_ALL']\n",
    "plt.hist(SAT_distribution)\n",
    "plt.xlabel('SAT Scores')\n",
    "plt.ylabel('Counts')\n",
    "plt.show()"
   ]
  },
  {
   "cell_type": "code",
   "execution_count": 41,
   "metadata": {},
   "outputs": [
    {
     "data": {
      "text/html": [
       "<div>\n",
       "<style scoped>\n",
       "    .dataframe tbody tr th:only-of-type {\n",
       "        vertical-align: middle;\n",
       "    }\n",
       "\n",
       "    .dataframe tbody tr th {\n",
       "        vertical-align: top;\n",
       "    }\n",
       "\n",
       "    .dataframe thead th {\n",
       "        text-align: right;\n",
       "    }\n",
       "</style>\n",
       "<table border=\"1\" class=\"dataframe\">\n",
       "  <thead>\n",
       "    <tr style=\"text-align: right;\">\n",
       "      <th></th>\n",
       "      <th>Mean</th>\n",
       "      <th>Median</th>\n",
       "      <th>Variance</th>\n",
       "      <th>Std. Dev</th>\n",
       "      <th>SEM</th>\n",
       "    </tr>\n",
       "    <tr>\n",
       "      <th>State</th>\n",
       "      <th></th>\n",
       "      <th></th>\n",
       "      <th></th>\n",
       "      <th></th>\n",
       "      <th></th>\n",
       "    </tr>\n",
       "  </thead>\n",
       "  <tbody>\n",
       "    <tr>\n",
       "      <td>AK</td>\n",
       "      <td>1094.000000</td>\n",
       "      <td>1094.0</td>\n",
       "      <td>NaN</td>\n",
       "      <td>NaN</td>\n",
       "      <td>NaN</td>\n",
       "    </tr>\n",
       "    <tr>\n",
       "      <td>AL</td>\n",
       "      <td>1132.888889</td>\n",
       "      <td>1108.5</td>\n",
       "      <td>11156.928105</td>\n",
       "      <td>105.626361</td>\n",
       "      <td>24.896372</td>\n",
       "    </tr>\n",
       "    <tr>\n",
       "      <td>AR</td>\n",
       "      <td>1117.000000</td>\n",
       "      <td>1125.0</td>\n",
       "      <td>11238.000000</td>\n",
       "      <td>106.009434</td>\n",
       "      <td>47.408860</td>\n",
       "    </tr>\n",
       "    <tr>\n",
       "      <td>AZ</td>\n",
       "      <td>1151.000000</td>\n",
       "      <td>1218.0</td>\n",
       "      <td>10944.857143</td>\n",
       "      <td>104.617671</td>\n",
       "      <td>36.987932</td>\n",
       "    </tr>\n",
       "    <tr>\n",
       "      <td>CA</td>\n",
       "      <td>1162.888889</td>\n",
       "      <td>1142.0</td>\n",
       "      <td>17716.871795</td>\n",
       "      <td>133.104740</td>\n",
       "      <td>25.616019</td>\n",
       "    </tr>\n",
       "  </tbody>\n",
       "</table>\n",
       "</div>"
      ],
      "text/plain": [
       "              Mean  Median      Variance    Std. Dev        SEM\n",
       "State                                                          \n",
       "AK     1094.000000  1094.0           NaN         NaN        NaN\n",
       "AL     1132.888889  1108.5  11156.928105  105.626361  24.896372\n",
       "AR     1117.000000  1125.0  11238.000000  106.009434  47.408860\n",
       "AZ     1151.000000  1218.0  10944.857143  104.617671  36.987932\n",
       "CA     1162.888889  1142.0  17716.871795  133.104740  25.616019"
      ]
     },
     "execution_count": 41,
     "metadata": {},
     "output_type": "execute_result"
    }
   ],
   "source": [
    "SAT_summary =pd.DataFrame(satdata.groupby(\"State\").count())\n",
    "\n",
    "\n",
    "SAT_summary[\"Mean\"] = pd.DataFrame(satdata.groupby(\"State\")[\"SAT_AVG_ALL\"].mean())\n",
    "SAT_summary[\"Median\"] = pd.DataFrame(satdata.groupby(\"State\")[\"SAT_AVG_ALL\"].median())\n",
    "SAT_summary[\"Variance\"] = pd.DataFrame(satdata.groupby(\"State\")[\"SAT_AVG_ALL\"].var())\n",
    "SAT_summary[\"Std. Dev\"] = pd.DataFrame(satdata.groupby(\"State\")[\"SAT_AVG_ALL\"].std())\n",
    "SAT_summary[\"SEM\"] = pd.DataFrame(satdata.groupby(\"State\")[\"SAT_AVG_ALL\"].sem())\n",
    "\n",
    "SAT_summary = SAT_summary[[\"Mean\",\"Median\",\"Variance\",\"Std. Dev\", \"SEM\"]]\n",
    "\n",
    "\n",
    "\n",
    "SAT_summary.head()\n"
   ]
  },
  {
   "cell_type": "code",
   "execution_count": 11,
   "metadata": {},
   "outputs": [
    {
     "name": "stdout",
     "output_type": "stream",
     "text": [
      "The lower quartile of SAT scores is: 1059.0\n",
      "The upper quartile of SAT scores is: 1221.0\n",
      "The interquartile range of SAT scores is: 162.0\n",
      "The the median of SAT scores is: 1134.0 \n",
      "Values below 816.0 could be outliers.\n",
      "Values above 1464.0 could be outliers.\n"
     ]
    }
   ],
   "source": [
    "SAT_Qrt = satdata['SAT_AVG_ALL']\n",
    "\n",
    "quartiles_inc = SAT_Qrt.quantile([.25,.5,.75])\n",
    "lowerq_inc = quartiles_inc[0.25]\n",
    "upperq_inc = quartiles_inc[0.75]\n",
    "iqr_inc = upperq_inc-lowerq_inc\n",
    "\n",
    "print(f\"The lower quartile of SAT scores is: {lowerq_inc}\")\n",
    "print(f\"The upper quartile of SAT scores is: {upperq_inc}\")\n",
    "print(f\"The interquartile range of SAT scores is: {iqr_inc}\")\n",
    "print(f\"The the median of SAT scores is: {quartiles_inc[0.5]} \")\n",
    "\n",
    "lower_bound_inc = lowerq_inc - (1.5*iqr_inc)\n",
    "upper_bound_inc = upperq_inc + (1.5*iqr_inc)\n",
    "print(f\"Values below {lower_bound_inc} could be outliers.\")\n",
    "print(f\"Values above {upper_bound_inc} could be outliers.\")"
   ]
  },
  {
   "cell_type": "code",
   "execution_count": 42,
   "metadata": {},
   "outputs": [
    {
     "data": {
      "text/html": [
       "<div>\n",
       "<style scoped>\n",
       "    .dataframe tbody tr th:only-of-type {\n",
       "        vertical-align: middle;\n",
       "    }\n",
       "\n",
       "    .dataframe tbody tr th {\n",
       "        vertical-align: top;\n",
       "    }\n",
       "\n",
       "    .dataframe thead th {\n",
       "        text-align: right;\n",
       "    }\n",
       "</style>\n",
       "<table border=\"1\" class=\"dataframe\">\n",
       "  <thead>\n",
       "    <tr style=\"text-align: right;\">\n",
       "      <th></th>\n",
       "      <th>Mean</th>\n",
       "      <th>Median</th>\n",
       "      <th>Variance</th>\n",
       "      <th>Std. Dev</th>\n",
       "      <th>SEM</th>\n",
       "    </tr>\n",
       "    <tr>\n",
       "      <th>State</th>\n",
       "      <th></th>\n",
       "      <th></th>\n",
       "      <th></th>\n",
       "      <th></th>\n",
       "      <th></th>\n",
       "    </tr>\n",
       "  </thead>\n",
       "  <tbody>\n",
       "    <tr>\n",
       "      <td>AK</td>\n",
       "      <td>57570.000000</td>\n",
       "      <td>57570</td>\n",
       "      <td>NaN</td>\n",
       "      <td>NaN</td>\n",
       "      <td>NaN</td>\n",
       "    </tr>\n",
       "    <tr>\n",
       "      <td>AL</td>\n",
       "      <td>44213.888889</td>\n",
       "      <td>42510</td>\n",
       "      <td>2.227806e+07</td>\n",
       "      <td>4719.964031</td>\n",
       "      <td>1112.506191</td>\n",
       "    </tr>\n",
       "    <tr>\n",
       "      <td>AR</td>\n",
       "      <td>42970.000000</td>\n",
       "      <td>45020</td>\n",
       "      <td>1.254055e+07</td>\n",
       "      <td>3541.263899</td>\n",
       "      <td>1583.701361</td>\n",
       "    </tr>\n",
       "    <tr>\n",
       "      <td>AZ</td>\n",
       "      <td>45775.000000</td>\n",
       "      <td>45235</td>\n",
       "      <td>2.005771e+07</td>\n",
       "      <td>4478.583960</td>\n",
       "      <td>1583.418544</td>\n",
       "    </tr>\n",
       "    <tr>\n",
       "      <td>CA</td>\n",
       "      <td>56138.148148</td>\n",
       "      <td>57890</td>\n",
       "      <td>6.838856e+07</td>\n",
       "      <td>8269.737712</td>\n",
       "      <td>1591.511765</td>\n",
       "    </tr>\n",
       "  </tbody>\n",
       "</table>\n",
       "</div>"
      ],
      "text/plain": [
       "               Mean  Median      Variance     Std. Dev          SEM\n",
       "State                                                              \n",
       "AK     57570.000000   57570           NaN          NaN          NaN\n",
       "AL     44213.888889   42510  2.227806e+07  4719.964031  1112.506191\n",
       "AR     42970.000000   45020  1.254055e+07  3541.263899  1583.701361\n",
       "AZ     45775.000000   45235  2.005771e+07  4478.583960  1583.418544\n",
       "CA     56138.148148   57890  6.838856e+07  8269.737712  1591.511765"
      ]
     },
     "execution_count": 42,
     "metadata": {},
     "output_type": "execute_result"
    }
   ],
   "source": [
    "income_summary =pd.DataFrame(satdata.groupby(\"State\").count())\n",
    "\n",
    "\n",
    "income_summary[\"Mean\"] = pd.DataFrame(satdata.groupby(\"State\")[\"AVG_income\"].mean())\n",
    "income_summary[\"Median\"] = pd.DataFrame(satdata.groupby(\"State\")[\"AVG_income\"].median())\n",
    "income_summary[\"Variance\"] = pd.DataFrame(satdata.groupby(\"State\")[\"AVG_income\"].var())\n",
    "income_summary[\"Std. Dev\"] = pd.DataFrame(satdata.groupby(\"State\")[\"AVG_income\"].std())\n",
    "income_summary[\"SEM\"] = pd.DataFrame(satdata.groupby(\"State\")[\"AVG_income\"].sem())\n",
    "\n",
    "income_summary = income_summary[[\"Mean\",\"Median\",\"Variance\",\"Std. Dev\", \"SEM\"]]\n",
    "\n",
    "\n",
    "\n",
    "income_summary.head()"
   ]
  },
  {
   "cell_type": "code",
   "execution_count": 10,
   "metadata": {},
   "outputs": [
    {
     "name": "stdout",
     "output_type": "stream",
     "text": [
      "The lower quartile of income is: 44570.0\n",
      "The upper quartile of income is: 53380.0\n",
      "The interquartile range of income is: 8810.0\n",
      "The the median of income is: 47750.0 \n",
      "Values below 31355.0 could be outliers.\n",
      "Values above 66595.0 could be outliers.\n"
     ]
    }
   ],
   "source": [
    "Income_Qrt = satdata['AVG_income']\n",
    "\n",
    "quartiles_inc = Income_Qrt.quantile([.25,.5,.75])\n",
    "lowerq_inc = quartiles_inc[0.25]\n",
    "upperq_inc = quartiles_inc[0.75]\n",
    "iqr_inc = upperq_inc-lowerq_inc\n",
    "\n",
    "print(f\"The lower quartile of income is: {lowerq_inc}\")\n",
    "print(f\"The upper quartile of income is: {upperq_inc}\")\n",
    "print(f\"The interquartile range of income is: {iqr_inc}\")\n",
    "print(f\"The the median of income is: {quartiles_inc[0.5]} \")\n",
    "\n",
    "lower_bound_inc = lowerq_inc - (1.5*iqr_inc)\n",
    "upper_bound_inc = upperq_inc + (1.5*iqr_inc)\n",
    "print(f\"Values below {lower_bound_inc} could be outliers.\")\n",
    "print(f\"Values above {upper_bound_inc} could be outliers.\")"
   ]
  },
  {
   "cell_type": "code",
   "execution_count": 12,
   "metadata": {},
   "outputs": [
    {
     "name": "stdout",
     "output_type": "stream",
     "text": [
      "80480\n",
      "26900\n"
     ]
    }
   ],
   "source": [
    "max_income = satdata[\"AVG_income\"].max()\n",
    "min_income = satdata[\"AVG_income\"].min()\n",
    "\n",
    "print(max_income)\n",
    "print(min_income)"
   ]
  },
  {
   "cell_type": "code",
   "execution_count": 35,
   "metadata": {},
   "outputs": [
    {
     "data": {
      "text/html": [
       "<div>\n",
       "<style scoped>\n",
       "    .dataframe tbody tr th:only-of-type {\n",
       "        vertical-align: middle;\n",
       "    }\n",
       "\n",
       "    .dataframe tbody tr th {\n",
       "        vertical-align: top;\n",
       "    }\n",
       "\n",
       "    .dataframe thead th {\n",
       "        text-align: right;\n",
       "    }\n",
       "</style>\n",
       "<table border=\"1\" class=\"dataframe\">\n",
       "  <thead>\n",
       "    <tr style=\"text-align: right;\">\n",
       "      <th></th>\n",
       "      <th>University</th>\n",
       "      <th>CITY</th>\n",
       "      <th>State</th>\n",
       "      <th>ZIP</th>\n",
       "      <th>LATITUDE</th>\n",
       "      <th>LONGITUDE</th>\n",
       "      <th>SAT_AVG_ALL</th>\n",
       "      <th>Total_EMP</th>\n",
       "      <th>Median_income</th>\n",
       "      <th>AVG_income</th>\n",
       "      <th>Income Buckets</th>\n",
       "    </tr>\n",
       "  </thead>\n",
       "  <tbody>\n",
       "    <tr>\n",
       "      <td>0</td>\n",
       "      <td>University of Alabama at Birmingham</td>\n",
       "      <td>Birmingham</td>\n",
       "      <td>AL</td>\n",
       "      <td>35294-0110</td>\n",
       "      <td>33.505697</td>\n",
       "      <td>-86.799345</td>\n",
       "      <td>1195</td>\n",
       "      <td>510560</td>\n",
       "      <td>37050</td>\n",
       "      <td>47480</td>\n",
       "      <td>Lower</td>\n",
       "    </tr>\n",
       "    <tr>\n",
       "      <td>1</td>\n",
       "      <td>University of Alabama in Huntsville</td>\n",
       "      <td>Huntsville</td>\n",
       "      <td>AL</td>\n",
       "      <td>35899</td>\n",
       "      <td>34.724557</td>\n",
       "      <td>-86.640449</td>\n",
       "      <td>1322</td>\n",
       "      <td>226330</td>\n",
       "      <td>39820</td>\n",
       "      <td>54630</td>\n",
       "      <td>Upper</td>\n",
       "    </tr>\n",
       "    <tr>\n",
       "      <td>2</td>\n",
       "      <td>Alabama State University</td>\n",
       "      <td>Montgomery</td>\n",
       "      <td>AL</td>\n",
       "      <td>36104-0271</td>\n",
       "      <td>32.364317</td>\n",
       "      <td>-86.295677</td>\n",
       "      <td>935</td>\n",
       "      <td>164030</td>\n",
       "      <td>33670</td>\n",
       "      <td>42510</td>\n",
       "      <td>Lower</td>\n",
       "    </tr>\n",
       "    <tr>\n",
       "      <td>3</td>\n",
       "      <td>The University of Alabama</td>\n",
       "      <td>Tuscaloosa</td>\n",
       "      <td>AL</td>\n",
       "      <td>35487-0166</td>\n",
       "      <td>33.211875</td>\n",
       "      <td>-87.545978</td>\n",
       "      <td>1278</td>\n",
       "      <td>102020</td>\n",
       "      <td>33740</td>\n",
       "      <td>41800</td>\n",
       "      <td>Lower</td>\n",
       "    </tr>\n",
       "    <tr>\n",
       "      <td>4</td>\n",
       "      <td>Auburn University at Montgomery</td>\n",
       "      <td>Montgomery</td>\n",
       "      <td>AL</td>\n",
       "      <td>36117-3596</td>\n",
       "      <td>32.367360</td>\n",
       "      <td>-86.177544</td>\n",
       "      <td>1083</td>\n",
       "      <td>164030</td>\n",
       "      <td>33670</td>\n",
       "      <td>42510</td>\n",
       "      <td>Lower</td>\n",
       "    </tr>\n",
       "    <tr>\n",
       "      <td>...</td>\n",
       "      <td>...</td>\n",
       "      <td>...</td>\n",
       "      <td>...</td>\n",
       "      <td>...</td>\n",
       "      <td>...</td>\n",
       "      <td>...</td>\n",
       "      <td>...</td>\n",
       "      <td>...</td>\n",
       "      <td>...</td>\n",
       "      <td>...</td>\n",
       "      <td>...</td>\n",
       "    </tr>\n",
       "    <tr>\n",
       "      <td>574</td>\n",
       "      <td>Purdue University - Purdue Polytechnic Kokomo</td>\n",
       "      <td>Kokomo</td>\n",
       "      <td>IN</td>\n",
       "      <td>46904</td>\n",
       "      <td>NaN</td>\n",
       "      <td>NaN</td>\n",
       "      <td>1293</td>\n",
       "      <td>39560</td>\n",
       "      <td>37920</td>\n",
       "      <td>45300</td>\n",
       "      <td>Lower</td>\n",
       "    </tr>\n",
       "    <tr>\n",
       "      <td>575</td>\n",
       "      <td>Purdue University - Purdue Polytechnic Lafayette</td>\n",
       "      <td>Lafayette</td>\n",
       "      <td>IN</td>\n",
       "      <td>47903</td>\n",
       "      <td>NaN</td>\n",
       "      <td>NaN</td>\n",
       "      <td>1293</td>\n",
       "      <td>90720</td>\n",
       "      <td>35930</td>\n",
       "      <td>44620</td>\n",
       "      <td>Lower</td>\n",
       "    </tr>\n",
       "    <tr>\n",
       "      <td>576</td>\n",
       "      <td>Arizona State University at Tucson</td>\n",
       "      <td>Tucson</td>\n",
       "      <td>AZ</td>\n",
       "      <td>857454284</td>\n",
       "      <td>NaN</td>\n",
       "      <td>NaN</td>\n",
       "      <td>1219</td>\n",
       "      <td>369480</td>\n",
       "      <td>35430</td>\n",
       "      <td>47610</td>\n",
       "      <td>Lower</td>\n",
       "    </tr>\n",
       "    <tr>\n",
       "      <td>577</td>\n",
       "      <td>Arizona State University - ASU Colleges at Lak...</td>\n",
       "      <td>Lake Havasu City</td>\n",
       "      <td>AZ</td>\n",
       "      <td>864036877</td>\n",
       "      <td>NaN</td>\n",
       "      <td>NaN</td>\n",
       "      <td>1219</td>\n",
       "      <td>49340</td>\n",
       "      <td>31090</td>\n",
       "      <td>40470</td>\n",
       "      <td>Lower</td>\n",
       "    </tr>\n",
       "    <tr>\n",
       "      <td>578</td>\n",
       "      <td>Arizona State University at Yuma</td>\n",
       "      <td>Yuma</td>\n",
       "      <td>AZ</td>\n",
       "      <td>853656900</td>\n",
       "      <td>NaN</td>\n",
       "      <td>NaN</td>\n",
       "      <td>1219</td>\n",
       "      <td>61260</td>\n",
       "      <td>29540</td>\n",
       "      <td>40840</td>\n",
       "      <td>Lower</td>\n",
       "    </tr>\n",
       "  </tbody>\n",
       "</table>\n",
       "<p>579 rows × 11 columns</p>\n",
       "</div>"
      ],
      "text/plain": [
       "                                            University              CITY  \\\n",
       "0                  University of Alabama at Birmingham        Birmingham   \n",
       "1                  University of Alabama in Huntsville        Huntsville   \n",
       "2                             Alabama State University        Montgomery   \n",
       "3                            The University of Alabama        Tuscaloosa   \n",
       "4                      Auburn University at Montgomery        Montgomery   \n",
       "..                                                 ...               ...   \n",
       "574      Purdue University - Purdue Polytechnic Kokomo            Kokomo   \n",
       "575   Purdue University - Purdue Polytechnic Lafayette         Lafayette   \n",
       "576                 Arizona State University at Tucson            Tucson   \n",
       "577  Arizona State University - ASU Colleges at Lak...  Lake Havasu City   \n",
       "578                   Arizona State University at Yuma              Yuma   \n",
       "\n",
       "    State         ZIP   LATITUDE  LONGITUDE  SAT_AVG_ALL  Total_EMP  \\\n",
       "0      AL  35294-0110  33.505697 -86.799345         1195     510560   \n",
       "1      AL       35899  34.724557 -86.640449         1322     226330   \n",
       "2      AL  36104-0271  32.364317 -86.295677          935     164030   \n",
       "3      AL  35487-0166  33.211875 -87.545978         1278     102020   \n",
       "4      AL  36117-3596  32.367360 -86.177544         1083     164030   \n",
       "..    ...         ...        ...        ...          ...        ...   \n",
       "574    IN       46904        NaN        NaN         1293      39560   \n",
       "575    IN       47903        NaN        NaN         1293      90720   \n",
       "576    AZ   857454284        NaN        NaN         1219     369480   \n",
       "577    AZ   864036877        NaN        NaN         1219      49340   \n",
       "578    AZ   853656900        NaN        NaN         1219      61260   \n",
       "\n",
       "     Median_income  AVG_income Income Buckets  \n",
       "0            37050       47480          Lower  \n",
       "1            39820       54630          Upper  \n",
       "2            33670       42510          Lower  \n",
       "3            33740       41800          Lower  \n",
       "4            33670       42510          Lower  \n",
       "..             ...         ...            ...  \n",
       "574          37920       45300          Lower  \n",
       "575          35930       44620          Lower  \n",
       "576          35430       47610          Lower  \n",
       "577          31090       40470          Lower  \n",
       "578          29540       40840          Lower  \n",
       "\n",
       "[579 rows x 11 columns]"
      ]
     },
     "execution_count": 35,
     "metadata": {},
     "output_type": "execute_result"
    }
   ],
   "source": [
    "group_names = [\"Lower\", \"Upper\"]\n",
    "satdata[\"Income Buckets\"] = pd.cut(satdata[\"AVG_income\"],2, labels=group_names)\n",
    "satdata"
   ]
  },
  {
   "cell_type": "code",
   "execution_count": 36,
   "metadata": {},
   "outputs": [
    {
     "data": {
      "text/plain": [
       "<matplotlib.axes._subplots.AxesSubplot at 0x1a220c8e50>"
      ]
     },
     "execution_count": 36,
     "metadata": {},
     "output_type": "execute_result"
    },
    {
     "data": {
      "image/png": "[encoded data removed]",
      "text/plain": [
       "<Figure size 1440x720 with 1 Axes>"
      ]
     },
     "metadata": {
      "needs_background": "light"
     },
     "output_type": "display_data"
    }
   ],
   "source": [
    "satdata.boxplot(\"SAT_AVG_ALL\", by=\"Income Buckets\", figsize=(20, 10))"
   ]
  },
  {
   "cell_type": "code",
   "execution_count": 39,
   "metadata": {},
   "outputs": [],
   "source": [
    "group1 = satdata[satdata[\"Income Buckets\"] == \"Lower\"][\"SAT_AVG_ALL\"]\n",
    "group2 = satdata[satdata[\"Income Buckets\"] == \"Upper\"][\"SAT_AVG_ALL\"]\n"
   ]
  },
  {
   "cell_type": "code",
   "execution_count": 40,
   "metadata": {},
   "outputs": [
    {
     "data": {
      "text/plain": [
       "F_onewayResult(statistic=29.38636276578558, pvalue=8.72621891286958e-08)"
      ]
     },
     "execution_count": 40,
     "metadata": {},
     "output_type": "execute_result"
    }
   ],
   "source": [
    "sts.f_oneway(group1, group2)"
   ]
  },
  {
   "cell_type": "code",
   "execution_count": 42,
   "metadata": {},
   "outputs": [
    {
     "data": {
      "text/plain": [
       "<matplotlib.legend.Legend at 0x1a2261b910>"
      ]
     },
     "execution_count": 42,
     "metadata": {},
     "output_type": "execute_result"
    },
    {
     "data": {
      "image/png": "[encoded data removed]",
      "text/plain": [
       "<Figure size 432x288 with 1 Axes>"
      ]
     },
     "metadata": {
      "needs_background": "light"
     },
     "output_type": "display_data"
    }
   ],
   "source": [
    "    plt.subplot(2, 1, 2)\n",
    "    plt.hist(group1, 20, density=True, alpha=0.7, label=\"Lower\")\n",
    "    plt.hist(group2, 20, density=True, alpha=0.7, label=\"Upper\")\n",
    "    plt.axvline(group1.mean(), color='k', linestyle='dashed', linewidth=1)\n",
    "    plt.axvline(group2.mean(), color='k', linestyle='dashed', linewidth=1)\n",
    "    plt.legend()  "
   ]
  },
  {
   "cell_type": "code",
   "execution_count": 44,
   "metadata": {},
   "outputs": [
    {
     "data": {
      "text/plain": [
       "Ttest_1sampResult(statistic=-12.670618051131733, pvalue=1.3311964350917512e-31)"
      ]
     },
     "execution_count": 44,
     "metadata": {},
     "output_type": "execute_result"
    }
   ],
   "source": [
    "sts.ttest_1samp(group1, group2.mean())"
   ]
  },
  {
   "cell_type": "code",
   "execution_count": null,
   "metadata": {},
   "outputs": [],
   "source": []
  },
  {
   "cell_type": "code",
   "execution_count": 17,
   "metadata": {},
   "outputs": [
    {
     "data": {
      "text/plain": [
       "<matplotlib.axes._subplots.AxesSubplot at 0x1a1feca2d0>"
      ]
     },
     "execution_count": 17,
     "metadata": {},
     "output_type": "execute_result"
    },
    {
     "data": {
      "image/png": "[encoded data removed]",
      "text/plain": [
       "<Figure size 1440x720 with 1 Axes>"
      ]
     },
     "metadata": {
      "needs_background": "light"
     },
     "output_type": "display_data"
    }
   ],
   "source": [
    "satdata.boxplot(\"SAT_AVG_ALL\", by=\"State\", figsize=(20, 10))"
   ]
  },
  {
   "cell_type": "code",
   "execution_count": 18,
   "metadata": {},
   "outputs": [
    {
     "data": {
      "text/plain": [
       "<matplotlib.axes._subplots.AxesSubplot at 0x1a2080fb90>"
      ]
     },
     "execution_count": 18,
     "metadata": {},
     "output_type": "execute_result"
    },
    {
     "data": {
      "image/png": "[encoded data removed]",
      "text/plain": [
       "<Figure size 1440x720 with 1 Axes>"
      ]
     },
     "metadata": {
      "needs_background": "light"
     },
     "output_type": "display_data"
    }
   ],
   "source": [
    "satdata.boxplot(\"AVG_income\", by=\"State\", figsize=(20, 10))"
   ]
  }
 ],
 "metadata": {
  "kernelspec": {
   "display_name": "Python 3",
   "language": "python",
   "name": "python3"
  },
  "language_info": {
   "codemirror_mode": {
    "name": "ipython",
    "version": 3
   },
   "file_extension": ".py",
   "mimetype": "text/x-python",
   "name": "python",
   "nbconvert_exporter": "python",
   "pygments_lexer": "ipython3",
   "version": "3.7.4"
  }
 },
 "nbformat": 4,
 "nbformat_minor": 2
}
