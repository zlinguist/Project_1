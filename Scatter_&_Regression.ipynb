{
 "cells": [
  {
   "cell_type": "code",
   "execution_count": 1,
   "metadata": {},
   "outputs": [
    {
     "data": {
      "text/html": [
       "<div>\n",
       "<style scoped>\n",
       "    .dataframe tbody tr th:only-of-type {\n",
       "        vertical-align: middle;\n",
       "    }\n",
       "\n",
       "    .dataframe tbody tr th {\n",
       "        vertical-align: top;\n",
       "    }\n",
       "\n",
       "    .dataframe thead th {\n",
       "        text-align: right;\n",
       "    }\n",
       "</style>\n",
       "<table border=\"1\" class=\"dataframe\">\n",
       "  <thead>\n",
       "    <tr style=\"text-align: right;\">\n",
       "      <th></th>\n",
       "      <th>INSTNM</th>\n",
       "      <th>CITY</th>\n",
       "      <th>STABBR</th>\n",
       "      <th>ZIP</th>\n",
       "      <th>LATITUDE</th>\n",
       "      <th>LONGITUDE</th>\n",
       "      <th>SAT_AVG</th>\n",
       "      <th>SAT_AVG_ALL</th>\n",
       "      <th>Total_EMP</th>\n",
       "      <th>Median_income</th>\n",
       "      <th>AVG_income</th>\n",
       "    </tr>\n",
       "  </thead>\n",
       "  <tbody>\n",
       "    <tr>\n",
       "      <th>0</th>\n",
       "      <td>University of Alabama at Birmingham</td>\n",
       "      <td>Birmingham</td>\n",
       "      <td>AL</td>\n",
       "      <td>35294-0110</td>\n",
       "      <td>33.505697</td>\n",
       "      <td>-86.799345</td>\n",
       "      <td>1195.0</td>\n",
       "      <td>1195</td>\n",
       "      <td>510560</td>\n",
       "      <td>37050</td>\n",
       "      <td>47480</td>\n",
       "    </tr>\n",
       "    <tr>\n",
       "      <th>1</th>\n",
       "      <td>University of Alabama in Huntsville</td>\n",
       "      <td>Huntsville</td>\n",
       "      <td>AL</td>\n",
       "      <td>35899</td>\n",
       "      <td>34.724557</td>\n",
       "      <td>-86.640449</td>\n",
       "      <td>1322.0</td>\n",
       "      <td>1322</td>\n",
       "      <td>226330</td>\n",
       "      <td>39820</td>\n",
       "      <td>54630</td>\n",
       "    </tr>\n",
       "    <tr>\n",
       "      <th>2</th>\n",
       "      <td>Alabama State University</td>\n",
       "      <td>Montgomery</td>\n",
       "      <td>AL</td>\n",
       "      <td>36104-0271</td>\n",
       "      <td>32.364317</td>\n",
       "      <td>-86.295677</td>\n",
       "      <td>935.0</td>\n",
       "      <td>935</td>\n",
       "      <td>164030</td>\n",
       "      <td>33670</td>\n",
       "      <td>42510</td>\n",
       "    </tr>\n",
       "    <tr>\n",
       "      <th>3</th>\n",
       "      <td>The University of Alabama</td>\n",
       "      <td>Tuscaloosa</td>\n",
       "      <td>AL</td>\n",
       "      <td>35487-0166</td>\n",
       "      <td>33.211875</td>\n",
       "      <td>-87.545978</td>\n",
       "      <td>1278.0</td>\n",
       "      <td>1278</td>\n",
       "      <td>102020</td>\n",
       "      <td>33740</td>\n",
       "      <td>41800</td>\n",
       "    </tr>\n",
       "    <tr>\n",
       "      <th>4</th>\n",
       "      <td>Auburn University at Montgomery</td>\n",
       "      <td>Montgomery</td>\n",
       "      <td>AL</td>\n",
       "      <td>36117-3596</td>\n",
       "      <td>32.367360</td>\n",
       "      <td>-86.177544</td>\n",
       "      <td>1083.0</td>\n",
       "      <td>1083</td>\n",
       "      <td>164030</td>\n",
       "      <td>33670</td>\n",
       "      <td>42510</td>\n",
       "    </tr>\n",
       "  </tbody>\n",
       "</table>\n",
       "</div>"
      ],
      "text/plain": [
       "                                INSTNM        CITY STABBR         ZIP  \\\n",
       "0  University of Alabama at Birmingham  Birmingham     AL  35294-0110   \n",
       "1  University of Alabama in Huntsville  Huntsville     AL       35899   \n",
       "2             Alabama State University  Montgomery     AL  36104-0271   \n",
       "3            The University of Alabama  Tuscaloosa     AL  35487-0166   \n",
       "4      Auburn University at Montgomery  Montgomery     AL  36117-3596   \n",
       "\n",
       "    LATITUDE  LONGITUDE  SAT_AVG  SAT_AVG_ALL  Total_EMP  Median_income  \\\n",
       "0  33.505697 -86.799345   1195.0         1195     510560          37050   \n",
       "1  34.724557 -86.640449   1322.0         1322     226330          39820   \n",
       "2  32.364317 -86.295677    935.0          935     164030          33670   \n",
       "3  33.211875 -87.545978   1278.0         1278     102020          33740   \n",
       "4  32.367360 -86.177544   1083.0         1083     164030          33670   \n",
       "\n",
       "   AVG_income  \n",
       "0       47480  \n",
       "1       54630  \n",
       "2       42510  \n",
       "3       41800  \n",
       "4       42510  "
      ]
     },
     "execution_count": 1,
     "metadata": {},
     "output_type": "execute_result"
    }
   ],
   "source": [
    "import pandas as pd\n",
    "import matplotlib.pyplot as plt\n",
    "import numpy as np\n",
    "import scipy.stats as st\n",
    "from scipy.stats import linregress\n",
    "\n",
    "data_file = \"clean_data.csv\"\n",
    "sat_df = pd.read_csv(data_file)\n",
    "\n",
    "sat_df = sat_df.dropna(how='any')\n",
    "sat_df.head()"
   ]
  },
  {
   "cell_type": "code",
   "execution_count": 2,
   "metadata": {},
   "outputs": [
    {
     "name": "stdout",
     "output_type": "stream",
     "text": [
      "The correlation coefficient between average income and average SAT score is 0.23\n"
     ]
    }
   ],
   "source": [
    "income = sat_df.AVG_income\n",
    "sat = sat_df.SAT_AVG\n",
    "\n",
    "print(f\"The correlation coefficient between average income and average SAT score is {round(st.pearsonr(income, sat)[0],2)}\")"
   ]
  },
  {
   "cell_type": "code",
   "execution_count": 3,
   "metadata": {},
   "outputs": [
    {
     "name": "stdout",
     "output_type": "stream",
     "text": [
      "The r-squared is: 0.2336612083209843\n"
     ]
    },
    {
     "data": {
      "image/png": "[encoded data removed]",
      "text/plain": [
       "<Figure size 432x288 with 1 Axes>"
      ]
     },
     "metadata": {
      "needs_background": "light"
     },
     "output_type": "display_data"
    }
   ],
   "source": [
    "(slope, intercept, rvalue, pvalue, stderr) = linregress(income, sat)\n",
    "regress_values = income * slope + intercept\n",
    "line_eq = \"y = \" + str(round(slope,5)) + \"x + \" + str(round(intercept,2))\n",
    "plt.scatter(income,sat)\n",
    "plt.plot(income,regress_values,\"r-\")\n",
    "plt.annotate(line_eq,(52500,820),fontsize=15,color=\"red\")\n",
    "plt.title('Average Income vs. Average SAT Score')\n",
    "plt.xlabel('Average Income')\n",
    "plt.ylabel('Average SAT Score')\n",
    "print(f\"The r-squared is: {rvalue}\")\n",
    "plt.show()"
   ]
  },
  {
   "cell_type": "code",
   "execution_count": null,
   "metadata": {},
   "outputs": [],
   "source": []
  }
 ],
 "metadata": {
  "kernelspec": {
   "display_name": "Python 3",
   "language": "python",
   "name": "python3"
  },
  "language_info": {
   "codemirror_mode": {
    "name": "ipython",
    "version": 3
   },
   "file_extension": ".py",
   "mimetype": "text/x-python",
   "name": "python",
   "nbconvert_exporter": "python",
   "pygments_lexer": "ipython3",
   "version": "3.8.1"
  }
 },
 "nbformat": 4,
 "nbformat_minor": 4
}
